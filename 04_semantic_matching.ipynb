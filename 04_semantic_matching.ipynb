{
 "cells": [
  {
   "cell_type": "code",
   "execution_count": 17,
   "id": "687a02b8",
   "metadata": {},
   "outputs": [],
   "source": [
    "from sentence_transformers import SentenceTransformer\n",
    "\n",
    "model = SentenceTransformer('all-MiniLM-l6-v2')"
   ]
  },
  {
   "cell_type": "markdown",
   "id": "3d7a0f23",
   "metadata": {},
   "source": [
    "## Testing Model Working"
   ]
  },
  {
   "cell_type": "code",
   "execution_count": 18,
   "id": "b9acde9c",
   "metadata": {},
   "outputs": [
    {
     "name": "stdout",
     "output_type": "stream",
     "text": [
      "(2, 384)\n"
     ]
    }
   ],
   "source": [
    "sentences = [\n",
    "    \"Data scientist with experience in NLP and Python\",\n",
    "    \"Software engineer skilled in machine learning and SQL\"\n",
    "]\n",
    "\n",
    "embeddings = model.encode(sentences)\n",
    "print(embeddings.shape)"
   ]
  },
  {
   "cell_type": "markdown",
   "id": "8598aa76",
   "metadata": {},
   "source": [
    "# Embeddings"
   ]
  },
  {
   "cell_type": "code",
   "execution_count": 19,
   "id": "206f1da3",
   "metadata": {},
   "outputs": [],
   "source": [
    "import pandas as pd \n",
    "\n",
    "df_job = pd.read_csv(\"data/cleaned_job_data_final.csv\")\n",
    "df_cv = pd.read_csv(\"data/cleaned_resume_data_final.csv\")"
   ]
  },
  {
   "cell_type": "code",
   "execution_count": 20,
   "id": "0ecb1549",
   "metadata": {},
   "outputs": [
    {
     "data": {
      "application/vnd.jupyter.widget-view+json": {
       "model_id": "77b8a271b42640b690c72cb9cb8981a7",
       "version_major": 2,
       "version_minor": 0
      },
      "text/plain": [
       "Batches:   0%|          | 0/19 [00:00<?, ?it/s]"
      ]
     },
     "metadata": {},
     "output_type": "display_data"
    },
    {
     "data": {
      "application/vnd.jupyter.widget-view+json": {
       "model_id": "d14093e6ed464d748ffd69b57bbbc53e",
       "version_major": 2,
       "version_minor": 0
      },
      "text/plain": [
       "Batches:   0%|          | 0/3 [00:00<?, ?it/s]"
      ]
     },
     "metadata": {},
     "output_type": "display_data"
    }
   ],
   "source": [
    "job_embeddings = model.encode(df_job['cleaned_job_description'].tolist(), show_progress_bar=True)\n",
    "cv_embeddings = model.encode(df_cv['cleaned_resume'].tolist(), show_progress_bar=True)"
   ]
  },
  {
   "cell_type": "markdown",
   "id": "20343e1e",
   "metadata": {},
   "source": [
    "# Semantic Similarity"
   ]
  },
  {
   "cell_type": "code",
   "execution_count": 21,
   "id": "1781ade3",
   "metadata": {},
   "outputs": [
    {
     "name": "stdout",
     "output_type": "stream",
     "text": [
      "similarity score: [[0.6209675  0.6124866  0.60654294 ... 0.36985397 0.5486711  0.60184634]\n",
      " [0.4317672  0.32177672 0.37525192 ... 0.13907966 0.30450907 0.2878356 ]\n",
      " [0.5389446  0.53604174 0.53534484 ... 0.23510827 0.4181655  0.5379847 ]\n",
      " ...\n",
      " [0.50043315 0.42449725 0.4580879  ... 0.25202778 0.405498   0.45832273]\n",
      " [0.45874327 0.39713264 0.4990714  ... 0.33414882 0.44433367 0.5119874 ]\n",
      " [0.5699562  0.41504973 0.5992377  ... 0.36227873 0.5981538  0.56583965]]\n"
     ]
    }
   ],
   "source": [
    "from sklearn.metrics.pairwise import cosine_similarity\n",
    "\n",
    "similarity = cosine_similarity(cv_embeddings, job_embeddings)\n",
    "print(\"similarity score:\", similarity)"
   ]
  },
  {
   "cell_type": "markdown",
   "id": "390b8f00",
   "metadata": {},
   "source": [
    "# Save Embeddings + Similarity"
   ]
  },
  {
   "cell_type": "code",
   "execution_count": 22,
   "id": "d1a00f21",
   "metadata": {},
   "outputs": [],
   "source": [
    "import numpy as np\n",
    "\n",
    "np.save(\"embeddings/job_embeddings.npy\", job_embeddings)\n",
    "np.save(\"embeddings/cv_embeddings.npy\", cv_embeddings)"
   ]
  },
  {
   "cell_type": "code",
   "execution_count": 23,
   "id": "bfbcde57",
   "metadata": {},
   "outputs": [],
   "source": [
    "import pandas as pd\n",
    "from sklearn.metrics.pairwise import cosine_similarity\n",
    "\n",
    "similarity = cosine_similarity(cv_embeddings, job_embeddings)\n",
    "\n",
    "similarity_df = pd.DataFrame(\n",
    "    similarity,\n",
    "    index=df_cv['category'],        # or any unique resume ID\n",
    "    columns=df_job['simplified_job_title']      # or job titles/categories\n",
    ")\n",
    "\n",
    "similarity_df.to_csv(\"outputs/similarity_scores.csv\")"
   ]
  },
  {
   "cell_type": "markdown",
   "id": "d3cb8dee",
   "metadata": {},
   "source": [
    "# Top Matches"
   ]
  },
  {
   "cell_type": "code",
   "execution_count": 24,
   "id": "a2a750cf",
   "metadata": {},
   "outputs": [
    {
     "data": {
      "text/html": [
       "<div>\n",
       "<style scoped>\n",
       "    .dataframe tbody tr th:only-of-type {\n",
       "        vertical-align: middle;\n",
       "    }\n",
       "\n",
       "    .dataframe tbody tr th {\n",
       "        vertical-align: top;\n",
       "    }\n",
       "\n",
       "    .dataframe thead th {\n",
       "        text-align: right;\n",
       "    }\n",
       "</style>\n",
       "<table border=\"1\" class=\"dataframe\">\n",
       "  <thead>\n",
       "    <tr style=\"text-align: right;\">\n",
       "      <th></th>\n",
       "      <th>category</th>\n",
       "      <th>Data Scientist</th>\n",
       "      <th>Data Scientist.1</th>\n",
       "      <th>Data Scientist.2</th>\n",
       "      <th>Data Scientist.3</th>\n",
       "      <th>Data Scientist.4</th>\n",
       "      <th>Data Scientist.5</th>\n",
       "      <th>Data Scientist.6</th>\n",
       "      <th>Data Scientist.7</th>\n",
       "      <th>Data Scientist.8</th>\n",
       "      <th>...</th>\n",
       "      <th>Data Scientist.351</th>\n",
       "      <th>Data Scientist.352</th>\n",
       "      <th>Data Scientist.353</th>\n",
       "      <th>Data Scientist.354</th>\n",
       "      <th>Data Scientist.355</th>\n",
       "      <th>Data Scientist.356</th>\n",
       "      <th>Data Scientist.357</th>\n",
       "      <th>Data Scientist.358</th>\n",
       "      <th>Machine Learning Engineer.31</th>\n",
       "      <th>Data Engineer.95</th>\n",
       "    </tr>\n",
       "  </thead>\n",
       "  <tbody>\n",
       "    <tr>\n",
       "      <th>0</th>\n",
       "      <td>Data Science</td>\n",
       "      <td>0.620968</td>\n",
       "      <td>0.612487</td>\n",
       "      <td>0.606543</td>\n",
       "      <td>0.563118</td>\n",
       "      <td>0.622309</td>\n",
       "      <td>0.616564</td>\n",
       "      <td>0.640348</td>\n",
       "      <td>0.602860</td>\n",
       "      <td>0.374556</td>\n",
       "      <td>...</td>\n",
       "      <td>0.338470</td>\n",
       "      <td>0.610320</td>\n",
       "      <td>0.656542</td>\n",
       "      <td>0.470556</td>\n",
       "      <td>0.607810</td>\n",
       "      <td>0.577699</td>\n",
       "      <td>0.596886</td>\n",
       "      <td>0.369854</td>\n",
       "      <td>0.548671</td>\n",
       "      <td>0.601846</td>\n",
       "    </tr>\n",
       "    <tr>\n",
       "      <th>1</th>\n",
       "      <td>Data Science</td>\n",
       "      <td>0.431767</td>\n",
       "      <td>0.321777</td>\n",
       "      <td>0.375252</td>\n",
       "      <td>0.346281</td>\n",
       "      <td>0.350054</td>\n",
       "      <td>0.343059</td>\n",
       "      <td>0.462117</td>\n",
       "      <td>0.395355</td>\n",
       "      <td>0.211953</td>\n",
       "      <td>...</td>\n",
       "      <td>0.337720</td>\n",
       "      <td>0.398599</td>\n",
       "      <td>0.396188</td>\n",
       "      <td>0.350948</td>\n",
       "      <td>0.419076</td>\n",
       "      <td>0.370205</td>\n",
       "      <td>0.421393</td>\n",
       "      <td>0.139080</td>\n",
       "      <td>0.304509</td>\n",
       "      <td>0.287836</td>\n",
       "    </tr>\n",
       "    <tr>\n",
       "      <th>2</th>\n",
       "      <td>Data Science</td>\n",
       "      <td>0.538945</td>\n",
       "      <td>0.536042</td>\n",
       "      <td>0.535345</td>\n",
       "      <td>0.412224</td>\n",
       "      <td>0.548948</td>\n",
       "      <td>0.515142</td>\n",
       "      <td>0.529060</td>\n",
       "      <td>0.490336</td>\n",
       "      <td>0.284102</td>\n",
       "      <td>...</td>\n",
       "      <td>0.358862</td>\n",
       "      <td>0.548189</td>\n",
       "      <td>0.520859</td>\n",
       "      <td>0.406463</td>\n",
       "      <td>0.541216</td>\n",
       "      <td>0.579838</td>\n",
       "      <td>0.592935</td>\n",
       "      <td>0.235108</td>\n",
       "      <td>0.418166</td>\n",
       "      <td>0.537985</td>\n",
       "    </tr>\n",
       "    <tr>\n",
       "      <th>3</th>\n",
       "      <td>Data Science</td>\n",
       "      <td>0.649151</td>\n",
       "      <td>0.548164</td>\n",
       "      <td>0.630767</td>\n",
       "      <td>0.441792</td>\n",
       "      <td>0.622378</td>\n",
       "      <td>0.590207</td>\n",
       "      <td>0.643511</td>\n",
       "      <td>0.604755</td>\n",
       "      <td>0.317115</td>\n",
       "      <td>...</td>\n",
       "      <td>0.481072</td>\n",
       "      <td>0.607928</td>\n",
       "      <td>0.612537</td>\n",
       "      <td>0.549312</td>\n",
       "      <td>0.666164</td>\n",
       "      <td>0.604063</td>\n",
       "      <td>0.636920</td>\n",
       "      <td>0.297383</td>\n",
       "      <td>0.392201</td>\n",
       "      <td>0.620409</td>\n",
       "    </tr>\n",
       "    <tr>\n",
       "      <th>4</th>\n",
       "      <td>Data Science</td>\n",
       "      <td>0.653461</td>\n",
       "      <td>0.557515</td>\n",
       "      <td>0.603079</td>\n",
       "      <td>0.507000</td>\n",
       "      <td>0.635295</td>\n",
       "      <td>0.557837</td>\n",
       "      <td>0.697323</td>\n",
       "      <td>0.605158</td>\n",
       "      <td>0.343161</td>\n",
       "      <td>...</td>\n",
       "      <td>0.489973</td>\n",
       "      <td>0.623067</td>\n",
       "      <td>0.662016</td>\n",
       "      <td>0.518156</td>\n",
       "      <td>0.669320</td>\n",
       "      <td>0.578383</td>\n",
       "      <td>0.651040</td>\n",
       "      <td>0.307286</td>\n",
       "      <td>0.459045</td>\n",
       "      <td>0.559674</td>\n",
       "    </tr>\n",
       "  </tbody>\n",
       "</table>\n",
       "<p>5 rows × 579 columns</p>\n",
       "</div>"
      ],
      "text/plain": [
       "       category  Data Scientist  Data Scientist.1  Data Scientist.2  \\\n",
       "0  Data Science        0.620968          0.612487          0.606543   \n",
       "1  Data Science        0.431767          0.321777          0.375252   \n",
       "2  Data Science        0.538945          0.536042          0.535345   \n",
       "3  Data Science        0.649151          0.548164          0.630767   \n",
       "4  Data Science        0.653461          0.557515          0.603079   \n",
       "\n",
       "   Data Scientist.3  Data Scientist.4  Data Scientist.5  Data Scientist.6  \\\n",
       "0          0.563118          0.622309          0.616564          0.640348   \n",
       "1          0.346281          0.350054          0.343059          0.462117   \n",
       "2          0.412224          0.548948          0.515142          0.529060   \n",
       "3          0.441792          0.622378          0.590207          0.643511   \n",
       "4          0.507000          0.635295          0.557837          0.697323   \n",
       "\n",
       "   Data Scientist.7  Data Scientist.8  ...  Data Scientist.351  \\\n",
       "0          0.602860          0.374556  ...            0.338470   \n",
       "1          0.395355          0.211953  ...            0.337720   \n",
       "2          0.490336          0.284102  ...            0.358862   \n",
       "3          0.604755          0.317115  ...            0.481072   \n",
       "4          0.605158          0.343161  ...            0.489973   \n",
       "\n",
       "   Data Scientist.352  Data Scientist.353  Data Scientist.354  \\\n",
       "0            0.610320            0.656542            0.470556   \n",
       "1            0.398599            0.396188            0.350948   \n",
       "2            0.548189            0.520859            0.406463   \n",
       "3            0.607928            0.612537            0.549312   \n",
       "4            0.623067            0.662016            0.518156   \n",
       "\n",
       "   Data Scientist.355  Data Scientist.356  Data Scientist.357  \\\n",
       "0            0.607810            0.577699            0.596886   \n",
       "1            0.419076            0.370205            0.421393   \n",
       "2            0.541216            0.579838            0.592935   \n",
       "3            0.666164            0.604063            0.636920   \n",
       "4            0.669320            0.578383            0.651040   \n",
       "\n",
       "   Data Scientist.358  Machine Learning Engineer.31  Data Engineer.95  \n",
       "0            0.369854                      0.548671          0.601846  \n",
       "1            0.139080                      0.304509          0.287836  \n",
       "2            0.235108                      0.418166          0.537985  \n",
       "3            0.297383                      0.392201          0.620409  \n",
       "4            0.307286                      0.459045          0.559674  \n",
       "\n",
       "[5 rows x 579 columns]"
      ]
     },
     "execution_count": 24,
     "metadata": {},
     "output_type": "execute_result"
    }
   ],
   "source": [
    "import pandas as pd\n",
    "\n",
    "similarity_df = pd.read_csv(\"outputs/similarity_scores.csv\")\n",
    "similarity_df.head(5)"
   ]
  },
  {
   "cell_type": "code",
   "execution_count": 25,
   "id": "8b935427",
   "metadata": {},
   "outputs": [
    {
     "data": {
      "text/html": [
       "<div>\n",
       "<style scoped>\n",
       "    .dataframe tbody tr th:only-of-type {\n",
       "        vertical-align: middle;\n",
       "    }\n",
       "\n",
       "    .dataframe tbody tr th {\n",
       "        vertical-align: top;\n",
       "    }\n",
       "\n",
       "    .dataframe thead th {\n",
       "        text-align: right;\n",
       "    }\n",
       "</style>\n",
       "<table border=\"1\" class=\"dataframe\">\n",
       "  <thead>\n",
       "    <tr style=\"text-align: right;\">\n",
       "      <th></th>\n",
       "      <th>category</th>\n",
       "      <th>Resume</th>\n",
       "      <th>resume_length</th>\n",
       "      <th>cleaned_resume</th>\n",
       "      <th>text_length</th>\n",
       "    </tr>\n",
       "  </thead>\n",
       "  <tbody>\n",
       "    <tr>\n",
       "      <th>0</th>\n",
       "      <td>Data Science</td>\n",
       "      <td>Skills * Programming Languages: Python (pandas...</td>\n",
       "      <td>670</td>\n",
       "      <td>programming language python panda numpy scipy ...</td>\n",
       "      <td>499</td>\n",
       "    </tr>\n",
       "    <tr>\n",
       "      <th>1</th>\n",
       "      <td>Data Science</td>\n",
       "      <td>Education Details \\r\\nMay 2013 to May 2017 B.E...</td>\n",
       "      <td>163</td>\n",
       "      <td>education may may b.e uit rgpv data scientist ...</td>\n",
       "      <td>127</td>\n",
       "    </tr>\n",
       "    <tr>\n",
       "      <th>2</th>\n",
       "      <td>Data Science</td>\n",
       "      <td>Areas of Interest Deep Learning, Control Syste...</td>\n",
       "      <td>265</td>\n",
       "      <td>area interest deep learning control system des...</td>\n",
       "      <td>188</td>\n",
       "    </tr>\n",
       "    <tr>\n",
       "      <th>3</th>\n",
       "      <td>Data Science</td>\n",
       "      <td>Skills â¢ R â¢ Python â¢ SAP HANA â¢ Table...</td>\n",
       "      <td>993</td>\n",
       "      <td>r python sap hana tableau sap hana sql sap han...</td>\n",
       "      <td>724</td>\n",
       "    </tr>\n",
       "    <tr>\n",
       "      <th>4</th>\n",
       "      <td>Data Science</td>\n",
       "      <td>Skills â¢ Python â¢ Tableau â¢ Data Visuali...</td>\n",
       "      <td>241</td>\n",
       "      <td>python tableau data visualization r studio mac...</td>\n",
       "      <td>172</td>\n",
       "    </tr>\n",
       "  </tbody>\n",
       "</table>\n",
       "</div>"
      ],
      "text/plain": [
       "       category                                             Resume  \\\n",
       "0  Data Science  Skills * Programming Languages: Python (pandas...   \n",
       "1  Data Science  Education Details \\r\\nMay 2013 to May 2017 B.E...   \n",
       "2  Data Science  Areas of Interest Deep Learning, Control Syste...   \n",
       "3  Data Science  Skills â¢ R â¢ Python â¢ SAP HANA â¢ Table...   \n",
       "4  Data Science  Skills â¢ Python â¢ Tableau â¢ Data Visuali...   \n",
       "\n",
       "   resume_length                                     cleaned_resume  \\\n",
       "0            670  programming language python panda numpy scipy ...   \n",
       "1            163  education may may b.e uit rgpv data scientist ...   \n",
       "2            265  area interest deep learning control system des...   \n",
       "3            993  r python sap hana tableau sap hana sql sap han...   \n",
       "4            241  python tableau data visualization r studio mac...   \n",
       "\n",
       "   text_length  \n",
       "0          499  \n",
       "1          127  \n",
       "2          188  \n",
       "3          724  \n",
       "4          172  "
      ]
     },
     "execution_count": 25,
     "metadata": {},
     "output_type": "execute_result"
    }
   ],
   "source": [
    "cv_df = pd.read_csv(\"data/cleaned_resume_data_final.csv\")\n",
    "cv_df.head(5)"
   ]
  },
  {
   "cell_type": "code",
   "execution_count": 26,
   "id": "ab63331a",
   "metadata": {},
   "outputs": [
    {
     "data": {
      "text/html": [
       "<div>\n",
       "<style scoped>\n",
       "    .dataframe tbody tr th:only-of-type {\n",
       "        vertical-align: middle;\n",
       "    }\n",
       "\n",
       "    .dataframe tbody tr th {\n",
       "        vertical-align: top;\n",
       "    }\n",
       "\n",
       "    .dataframe thead th {\n",
       "        text-align: right;\n",
       "    }\n",
       "</style>\n",
       "<table border=\"1\" class=\"dataframe\">\n",
       "  <thead>\n",
       "    <tr style=\"text-align: right;\">\n",
       "      <th></th>\n",
       "      <th>CV_ID</th>\n",
       "      <th>CV_Category</th>\n",
       "      <th>Top_JD_Categories</th>\n",
       "      <th>Match_Scores</th>\n",
       "    </tr>\n",
       "  </thead>\n",
       "  <tbody>\n",
       "    <tr>\n",
       "      <th>0</th>\n",
       "      <td>Data Science</td>\n",
       "      <td>Data Science</td>\n",
       "      <td>[Data Scientist.195, Data Scientist.144, Data ...</td>\n",
       "      <td>[0.7132432, 0.7116245, 0.70198643, 0.6983115, ...</td>\n",
       "    </tr>\n",
       "    <tr>\n",
       "      <th>1</th>\n",
       "      <td>Data Science</td>\n",
       "      <td>Data Science</td>\n",
       "      <td>[Data Scientist.264, Data Scientist.281, Data ...</td>\n",
       "      <td>[0.514878, 0.50839853, 0.48954463, 0.4862132, ...</td>\n",
       "    </tr>\n",
       "    <tr>\n",
       "      <th>2</th>\n",
       "      <td>Data Science</td>\n",
       "      <td>Data Science</td>\n",
       "      <td>[Data Scientist.293, Data Scientist.282, Data ...</td>\n",
       "      <td>[0.62620485, 0.596589, 0.5929347, 0.5816834, 0...</td>\n",
       "    </tr>\n",
       "    <tr>\n",
       "      <th>3</th>\n",
       "      <td>Data Science</td>\n",
       "      <td>Data Science</td>\n",
       "      <td>[Data Engineer.27, Data Engineer.39, Data Scie...</td>\n",
       "      <td>[0.69160163, 0.6779484, 0.6720464, 0.6692674, ...</td>\n",
       "    </tr>\n",
       "    <tr>\n",
       "      <th>4</th>\n",
       "      <td>Data Science</td>\n",
       "      <td>Data Science</td>\n",
       "      <td>[Data Scientist.142, Data Scientist.189, Data ...</td>\n",
       "      <td>[0.7309114, 0.71535033, 0.71473014, 0.7137886,...</td>\n",
       "    </tr>\n",
       "  </tbody>\n",
       "</table>\n",
       "</div>"
      ],
      "text/plain": [
       "          CV_ID   CV_Category  \\\n",
       "0  Data Science  Data Science   \n",
       "1  Data Science  Data Science   \n",
       "2  Data Science  Data Science   \n",
       "3  Data Science  Data Science   \n",
       "4  Data Science  Data Science   \n",
       "\n",
       "                                   Top_JD_Categories  \\\n",
       "0  [Data Scientist.195, Data Scientist.144, Data ...   \n",
       "1  [Data Scientist.264, Data Scientist.281, Data ...   \n",
       "2  [Data Scientist.293, Data Scientist.282, Data ...   \n",
       "3  [Data Engineer.27, Data Engineer.39, Data Scie...   \n",
       "4  [Data Scientist.142, Data Scientist.189, Data ...   \n",
       "\n",
       "                                        Match_Scores  \n",
       "0  [0.7132432, 0.7116245, 0.70198643, 0.6983115, ...  \n",
       "1  [0.514878, 0.50839853, 0.48954463, 0.4862132, ...  \n",
       "2  [0.62620485, 0.596589, 0.5929347, 0.5816834, 0...  \n",
       "3  [0.69160163, 0.6779484, 0.6720464, 0.6692674, ...  \n",
       "4  [0.7309114, 0.71535033, 0.71473014, 0.7137886,...  "
      ]
     },
     "execution_count": 26,
     "metadata": {},
     "output_type": "execute_result"
    }
   ],
   "source": [
    "Top_N = 5\n",
    "\n",
    "similarity_df = similarity_df.apply(pd.to_numeric, errors='coerce')\n",
    "\n",
    "top_matches = similarity_df.apply(lambda row: row.nlargest(Top_N).index.tolist(), axis=1)\n",
    "top_scores = similarity_df.apply(lambda row: row.nlargest(Top_N).values.tolist(), axis=1)\n",
    "\n",
    "matches_df = pd.DataFrame({\n",
    "    \"CV_ID\": cv_df['category'],\n",
    "    \"CV_Category\": cv_df['category'],\n",
    "    \"Top_JD_Categories\": top_matches,\n",
    "    \"Match_Scores\": top_scores\n",
    "})\n",
    "\n",
    "matches_df.head()"
   ]
  },
  {
   "cell_type": "code",
   "execution_count": 27,
   "id": "28be14cb",
   "metadata": {},
   "outputs": [],
   "source": [
    "matches_df[\"Top_Score\"] = matches_df[\"Match_Scores\"].apply(lambda x: max(x))"
   ]
  },
  {
   "cell_type": "code",
   "execution_count": 28,
   "id": "50691919",
   "metadata": {},
   "outputs": [],
   "source": [
    "matches_df.to_csv(\"outputs/top_matches.csv\")"
   ]
  },
  {
   "cell_type": "markdown",
   "id": "f45410b9",
   "metadata": {},
   "source": [
    "# Extract Missing Skills"
   ]
  },
  {
   "cell_type": "code",
   "execution_count": 29,
   "id": "c032408b",
   "metadata": {},
   "outputs": [
    {
     "data": {
      "text/html": [
       "<div>\n",
       "<style scoped>\n",
       "    .dataframe tbody tr th:only-of-type {\n",
       "        vertical-align: middle;\n",
       "    }\n",
       "\n",
       "    .dataframe tbody tr th {\n",
       "        vertical-align: top;\n",
       "    }\n",
       "\n",
       "    .dataframe thead th {\n",
       "        text-align: right;\n",
       "    }\n",
       "</style>\n",
       "<table border=\"1\" class=\"dataframe\">\n",
       "  <thead>\n",
       "    <tr style=\"text-align: right;\">\n",
       "      <th></th>\n",
       "      <th>CV_ID</th>\n",
       "      <th>CV_Category</th>\n",
       "      <th>Top_JD_Categories</th>\n",
       "      <th>Match_Scores</th>\n",
       "      <th>Top_Score</th>\n",
       "      <th>Missing_Skills</th>\n",
       "    </tr>\n",
       "  </thead>\n",
       "  <tbody>\n",
       "    <tr>\n",
       "      <th>0</th>\n",
       "      <td>Data Science</td>\n",
       "      <td>Data Science</td>\n",
       "      <td>[Data Scientist.195, Data Scientist.144, Data ...</td>\n",
       "      <td>[0.7132432, 0.7116245, 0.70198643, 0.6983115, ...</td>\n",
       "      <td>0.713243</td>\n",
       "      <td>[]</td>\n",
       "    </tr>\n",
       "    <tr>\n",
       "      <th>1</th>\n",
       "      <td>Data Science</td>\n",
       "      <td>Data Science</td>\n",
       "      <td>[Data Scientist.264, Data Scientist.281, Data ...</td>\n",
       "      <td>[0.514878, 0.50839853, 0.48954463, 0.4862132, ...</td>\n",
       "      <td>0.514878</td>\n",
       "      <td>[]</td>\n",
       "    </tr>\n",
       "    <tr>\n",
       "      <th>2</th>\n",
       "      <td>Data Science</td>\n",
       "      <td>Data Science</td>\n",
       "      <td>[Data Scientist.293, Data Scientist.282, Data ...</td>\n",
       "      <td>[0.62620485, 0.596589, 0.5929347, 0.5816834, 0...</td>\n",
       "      <td>0.626205</td>\n",
       "      <td>[]</td>\n",
       "    </tr>\n",
       "    <tr>\n",
       "      <th>3</th>\n",
       "      <td>Data Science</td>\n",
       "      <td>Data Science</td>\n",
       "      <td>[Data Engineer.27, Data Engineer.39, Data Scie...</td>\n",
       "      <td>[0.69160163, 0.6779484, 0.6720464, 0.6692674, ...</td>\n",
       "      <td>0.691602</td>\n",
       "      <td>[]</td>\n",
       "    </tr>\n",
       "    <tr>\n",
       "      <th>4</th>\n",
       "      <td>Data Science</td>\n",
       "      <td>Data Science</td>\n",
       "      <td>[Data Scientist.142, Data Scientist.189, Data ...</td>\n",
       "      <td>[0.7309114, 0.71535033, 0.71473014, 0.7137886,...</td>\n",
       "      <td>0.730911</td>\n",
       "      <td>[]</td>\n",
       "    </tr>\n",
       "  </tbody>\n",
       "</table>\n",
       "</div>"
      ],
      "text/plain": [
       "          CV_ID   CV_Category  \\\n",
       "0  Data Science  Data Science   \n",
       "1  Data Science  Data Science   \n",
       "2  Data Science  Data Science   \n",
       "3  Data Science  Data Science   \n",
       "4  Data Science  Data Science   \n",
       "\n",
       "                                   Top_JD_Categories  \\\n",
       "0  [Data Scientist.195, Data Scientist.144, Data ...   \n",
       "1  [Data Scientist.264, Data Scientist.281, Data ...   \n",
       "2  [Data Scientist.293, Data Scientist.282, Data ...   \n",
       "3  [Data Engineer.27, Data Engineer.39, Data Scie...   \n",
       "4  [Data Scientist.142, Data Scientist.189, Data ...   \n",
       "\n",
       "                                        Match_Scores  Top_Score Missing_Skills  \n",
       "0  [0.7132432, 0.7116245, 0.70198643, 0.6983115, ...   0.713243             []  \n",
       "1  [0.514878, 0.50839853, 0.48954463, 0.4862132, ...   0.514878             []  \n",
       "2  [0.62620485, 0.596589, 0.5929347, 0.5816834, 0...   0.626205             []  \n",
       "3  [0.69160163, 0.6779484, 0.6720464, 0.6692674, ...   0.691602             []  \n",
       "4  [0.7309114, 0.71535033, 0.71473014, 0.7137886,...   0.730911             []  "
      ]
     },
     "execution_count": 29,
     "metadata": {},
     "output_type": "execute_result"
    }
   ],
   "source": [
    "# Example simple function to get keywords from text\n",
    "def extract_keywords(text):\n",
    "    tokens = text.split()  # Or use your tokenized + cleaned list\n",
    "    return set(tokens)\n",
    "\n",
    "# Compute missing skills per CV for the top matched JD\n",
    "missing_skills_list = []\n",
    "\n",
    "for cv_idx, jd_indices in top_matches.items():\n",
    "    cv_keywords = extract_keywords(df_cv.loc[cv_idx, 'cleaned_resume'])\n",
    "    # Take the top JD only for missing skills\n",
    "    top_jd_idx = jd_indices[0]\n",
    "    jd_keywords = extract_keywords(df_job.loc[df_job['simplified_job_title'] == top_jd_idx, 'cleaned_job_description'].str.cat(sep=' '))\n",
    "    \n",
    "    missing_skills = jd_keywords - cv_keywords\n",
    "    missing_skills_list.append(list(missing_skills))\n",
    "\n",
    "matches_df['Missing_Skills'] = missing_skills_list\n",
    "matches_df.head()\n"
   ]
  },
  {
   "cell_type": "code",
   "execution_count": 30,
   "id": "966e0503",
   "metadata": {},
   "outputs": [],
   "source": [
    "matches_df.to_csv(\"outputs/top_matches.csv\")"
   ]
  },
  {
   "cell_type": "markdown",
   "id": "84ea8b71",
   "metadata": {},
   "source": [
    "# Visualizaion"
   ]
  },
  {
   "cell_type": "code",
   "execution_count": 31,
   "id": "5978f37e",
   "metadata": {},
   "outputs": [
    {
     "data": {
      "image/png": "[encoded data removed]",
      "text/plain": [
       "<Figure size 1000x600 with 1 Axes>"
      ]
     },
     "metadata": {},
     "output_type": "display_data"
    }
   ],
   "source": [
    "import matplotlib.pyplot as plt\n",
    "\n",
    "# Average match score per CV category\n",
    "matches_df['Top_Score'] = matches_df['Match_Scores'].apply(lambda x: x[0])  # top score only\n",
    "avg_scores = matches_df.groupby('CV_Category')['Top_Score'].mean()\n",
    "\n",
    "avg_scores.plot(kind='bar', figsize=(10,6), title='Average Top Match Score per CV Category')\n",
    "plt.ylabel('Average Cosine Similarity')\n",
    "plt.show()"
   ]
  },
  {
   "cell_type": "code",
   "execution_count": null,
   "id": "05a51ca1",
   "metadata": {},
   "outputs": [],
   "source": [
    "#“Initial missing skills extraction produced limited results, suggesting the need for a richer skill vocabulary or fuzzy matching to capture multi-word and domain-specific terms."
   ]
  }
 ],
 "metadata": {
  "kernelspec": {
   "display_name": "venv",
   "language": "python",
   "name": "python3"
  },
  "language_info": {
   "codemirror_mode": {
    "name": "ipython",
    "version": 3
   },
   "file_extension": ".py",
   "mimetype": "text/x-python",
   "name": "python",
   "nbconvert_exporter": "python",
   "pygments_lexer": "ipython3",
   "version": "3.12.3"
  }
 },
 "nbformat": 4,
 "nbformat_minor": 5
}
