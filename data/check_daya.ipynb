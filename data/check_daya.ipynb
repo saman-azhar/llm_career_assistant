{
 "cells": [
  {
   "cell_type": "code",
   "execution_count": 1,
   "id": "94906407",
   "metadata": {},
   "outputs": [
    {
     "name": "stdout",
     "output_type": "stream",
     "text": [
      "['Job Title', 'Job Description', 'Company Name', 'Location', 'cleaned_job_description', 'simplified_job_title']\n"
     ]
    }
   ],
   "source": [
    "import pandas as pd\n",
    "jd_df = pd.read_csv(\"cleaned_job_data_final.csv\")\n",
    "print(jd_df.columns.tolist())"
   ]
  },
  {
   "cell_type": "code",
   "execution_count": 4,
   "id": "4afa7719",
   "metadata": {},
   "outputs": [
    {
     "ename": "NameError",
     "evalue": "name 'args' is not defined",
     "output_type": "error",
     "traceback": [
      "\u001b[31m---------------------------------------------------------------------------\u001b[39m",
      "\u001b[31mNameError\u001b[39m                                 Traceback (most recent call last)",
      "\u001b[36mCell\u001b[39m\u001b[36m \u001b[39m\u001b[32mIn[4]\u001b[39m\u001b[32m, line 1\u001b[39m\n\u001b[32m----> \u001b[39m\u001b[32m1\u001b[39m jd_df = pd.read_csv(\u001b[43margs\u001b[49m.jd_file)\n\u001b[32m      2\u001b[39m jd_df.columns = jd_df.columns.str.strip()  \u001b[38;5;66;03m# remove leading/trailing spaces\u001b[39;00m\n",
      "\u001b[31mNameError\u001b[39m: name 'args' is not defined"
     ]
    }
   ],
   "source": [
    "jd_df = pd.read_csv(args.jd_file)\n",
    "jd_df.columns = jd_df.columns.str.strip()  # remove leading/trailing spaces"
   ]
  }
 ],
 "metadata": {
  "kernelspec": {
   "display_name": "venv",
   "language": "python",
   "name": "python3"
  },
  "language_info": {
   "codemirror_mode": {
    "name": "ipython",
    "version": 3
   },
   "file_extension": ".py",
   "mimetype": "text/x-python",
   "name": "python",
   "nbconvert_exporter": "python",
   "pygments_lexer": "ipython3",
   "version": "3.12.3"
  }
 },
 "nbformat": 4,
 "nbformat_minor": 5
}
